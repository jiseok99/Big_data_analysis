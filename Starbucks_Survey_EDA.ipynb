{
  "cells": [
    {
      "cell_type": "markdown",
      "metadata": {
        "id": "Bcxo0wz9qZrn"
      },
      "source": [
        "## 스타벅스 이벤트 관련 고객 설문 데이터\n",
        "\n",
        "- 스타벅스 고객들의 이벤트 관련 설문에 응답한 데이터의 일부입니다.\n",
        "\n",
        "\n",
        "- 해당 데이터에서 고객들이 이벤트에 대한 응답을 어떻게 하는지, 찾고 고객 프로모션 개선방안에 대한 인사이트를 찾습니다."
      ]
    },
    {
      "cell_type": "markdown",
      "metadata": {
        "id": "YWRn7sHgqZrs"
      },
      "source": [
        "### 0. Data Description\n",
        "\n",
        "1. Profile table\n",
        "\n",
        "> profile 데이터는 설문에 참여한 스타벅스 회원에 관련된 정보가 담겨 있습니다.\n",
        "\n",
        "\n",
        "2. transcript\n",
        "\n",
        "> 이벤트에 참여한 실제 유저들의 응답이 기록되어 있습니다.\n",
        "\n",
        "\n",
        "3. portfoilo\n",
        "\n",
        "> 이벤트를 운영했던 내역에 관한 정보가 담겨 있습니다."
      ]
    },
    {
      "cell_type": "markdown",
      "metadata": {
        "id": "NCJx7h7dqZrt"
      },
      "source": [
        "### 1. 라이브러리 및 데이터 로드\n",
        "\n",
        "- 분석에 필요한 데이터와, 라이브러리를 불러옵니다."
      ]
    },
    {
      "cell_type": "code",
      "execution_count": 137,
      "metadata": {
        "id": "G38DyDe3qZru"
      },
      "outputs": [],
      "source": [
        "# 데이터 분석 필수 라이브러리 4종 세트 불러오기\n",
        "import numpy as np\n",
        "import pandas as pd\n",
        "import matplotlib.pyplot as plt\n",
        "import seaborn as sns "
      ]
    },
    {
      "cell_type": "code",
      "source": [
        "from google.colab import drive\n",
        "drive.mount('/content/drive')"
      ],
      "metadata": {
        "colab": {
          "base_uri": "https://localhost:8080/"
        },
        "id": "XeTTBbvxrXXr",
        "outputId": "83b0984f-6aff-4a70-d665-41e53f578307"
      },
      "execution_count": 138,
      "outputs": [
        {
          "output_type": "stream",
          "name": "stdout",
          "text": [
            "Drive already mounted at /content/drive; to attempt to forcibly remount, call drive.mount(\"/content/drive\", force_remount=True).\n"
          ]
        }
      ]
    },
    {
      "cell_type": "code",
      "execution_count": 176,
      "metadata": {
        "id": "HWxv85KIpHhO"
      },
      "outputs": [],
      "source": [
        "# Starbucks Customer Data 폴더안에 있는 데이터 3개를 불러오기\n",
        "base_path = '/content/drive/MyDrive/Colab Notebooks/project/Starbucks Customer Data/'\n",
        "transcript = pd.read_csv(base_path + 'transcript.csv').drop(columns=['Unnamed: 0'])\n",
        "profile = pd.read_csv(base_path + 'profile.csv').drop(columns=['Unnamed: 0']) \n",
        "portfolio = pd.read_csv(base_path + 'portfolio.csv').drop(columns=['Unnamed: 0']) #Unnamed column을 삭제해줌."
      ]
    },
    {
      "cell_type": "markdown",
      "metadata": {
        "id": "A1xwXLyNqZrw"
      },
      "source": [
        "### 2. 데이터 전처리\n",
        "\n",
        "- 결측치가 존재하는 데이터를 찾아서, 결측치를 처리해줍니다."
      ]
    },
    {
      "cell_type": "code",
      "execution_count": 6,
      "metadata": {
        "colab": {
          "base_uri": "https://localhost:8080/"
        },
        "id": "4DU4YnlfqZrx",
        "outputId": "2fc13b22-11d7-4b1b-b22d-c4aba9fd5d00"
      },
      "outputs": [
        {
          "output_type": "stream",
          "name": "stdout",
          "text": [
            "<class 'pandas.core.frame.DataFrame'>\n",
            "RangeIndex: 306534 entries, 0 to 306533\n",
            "Data columns (total 4 columns):\n",
            " #   Column  Non-Null Count   Dtype \n",
            "---  ------  --------------   ----- \n",
            " 0   person  306534 non-null  object\n",
            " 1   event   306534 non-null  object\n",
            " 2   value   306534 non-null  object\n",
            " 3   time    306534 non-null  int64 \n",
            "dtypes: int64(1), object(3)\n",
            "memory usage: 9.4+ MB\n",
            "None\n",
            "<class 'pandas.core.frame.DataFrame'>\n",
            "RangeIndex: 17000 entries, 0 to 16999\n",
            "Data columns (total 5 columns):\n",
            " #   Column            Non-Null Count  Dtype  \n",
            "---  ------            --------------  -----  \n",
            " 0   gender            14825 non-null  object \n",
            " 1   age               17000 non-null  int64  \n",
            " 2   id                17000 non-null  object \n",
            " 3   became_member_on  17000 non-null  int64  \n",
            " 4   income            14825 non-null  float64\n",
            "dtypes: float64(1), int64(2), object(2)\n",
            "memory usage: 664.2+ KB\n",
            "None\n",
            "<class 'pandas.core.frame.DataFrame'>\n",
            "RangeIndex: 10 entries, 0 to 9\n",
            "Data columns (total 6 columns):\n",
            " #   Column      Non-Null Count  Dtype \n",
            "---  ------      --------------  ----- \n",
            " 0   reward      10 non-null     int64 \n",
            " 1   channels    10 non-null     object\n",
            " 2   difficulty  10 non-null     int64 \n",
            " 3   duration    10 non-null     int64 \n",
            " 4   offer_type  10 non-null     object\n",
            " 5   id          10 non-null     object\n",
            "dtypes: int64(3), object(3)\n",
            "memory usage: 608.0+ bytes\n",
            "None\n"
          ]
        }
      ],
      "source": [
        "# 각 데이터에 결측치가 있는지 확인합니다.\n",
        "print(transcript.info())\n",
        "print(profile.info()) #profile.csv 파일에 null value들이 존재하는 것을 확인할 수 있음.\n",
        "print(portfolio.info())"
      ]
    },
    {
      "cell_type": "code",
      "execution_count": 144,
      "metadata": {
        "colab": {
          "base_uri": "https://localhost:8080/"
        },
        "id": "5wUNhmGZqZrx",
        "outputId": "446bfcd0-56cb-4b28-ef5d-6d4a5669a74a"
      },
      "outputs": [
        {
          "output_type": "execute_result",
          "data": {
            "text/plain": [
              "array(['68be06ca386d4c31939f3a4f0e3dd783',\n",
              "       '38fe809add3b4fcf9315a9694bb96ff5',\n",
              "       'a03223e636434f42ac4c3df47e8bac43', ...,\n",
              "       'ca45ee1883624304bac1e4c8a114f045',\n",
              "       'a9a20fa8b5504360beb4e7c8712f8306',\n",
              "       'c02b10e8752c4d8e9b73f918558531f7'], dtype=object)"
            ]
          },
          "metadata": {},
          "execution_count": 144
        }
      ],
      "source": [
        "# 결측치를 포함하는 데이터들은 어떤 데이터들인지 확인합니다.\n",
        "nulls = profile[profile.isnull().any(axis=1)]\n",
        "nulls.id.unique()"
      ]
    },
    {
      "cell_type": "code",
      "execution_count": 145,
      "metadata": {
        "colab": {
          "base_uri": "https://localhost:8080/"
        },
        "id": "xPfM_vCEqZry",
        "outputId": "c19bc56d-f7b4-49c9-a826-fec8907253b7"
      },
      "outputs": [
        {
          "output_type": "stream",
          "name": "stdout",
          "text": [
            "<class 'pandas.core.frame.DataFrame'>\n",
            "Int64Index: 14825 entries, 1 to 16999\n",
            "Data columns (total 5 columns):\n",
            " #   Column            Non-Null Count  Dtype  \n",
            "---  ------            --------------  -----  \n",
            " 0   gender            14825 non-null  object \n",
            " 1   age               14825 non-null  int64  \n",
            " 2   id                14825 non-null  object \n",
            " 3   became_member_on  14825 non-null  int64  \n",
            " 4   income            14825 non-null  float64\n",
            "dtypes: float64(1), int64(2), object(2)\n",
            "memory usage: 694.9+ KB\n"
          ]
        }
      ],
      "source": [
        "# 결측치를 처리해줍니다. # 평균과 같은 통계량으로 채워주거나, 버립니다.\n",
        "profile = profile.dropna()\n",
        "profile.info()"
      ]
    },
    {
      "cell_type": "markdown",
      "metadata": {
        "id": "uO-iVE6nqZry"
      },
      "source": [
        "### 3. profile 데이터 분석\n",
        "\n",
        "- 설문에 참여한 사람 중, 정상적인 데이터로 판단된 데이터에 대한 분석을 수행합니다.\n",
        "\n",
        "\n",
        "- 각 column마다 원하는 통계량을 찾은 뒤, 해당 통계량을 멋지게 시각화해 줄 plot을 seaborn에서 가져와 구현합니다."
      ]
    },
    {
      "cell_type": "code",
      "execution_count": 146,
      "metadata": {
        "colab": {
          "base_uri": "https://localhost:8080/"
        },
        "id": "lJZgM4HoqZrz",
        "outputId": "2cd76c5b-ff25-4bf4-cb47-a328b1048969"
      },
      "outputs": [
        {
          "output_type": "stream",
          "name": "stdout",
          "text": [
            "<class 'pandas.core.frame.DataFrame'>\n",
            "Int64Index: 14825 entries, 1 to 16999\n",
            "Data columns (total 5 columns):\n",
            " #   Column            Non-Null Count  Dtype         \n",
            "---  ------            --------------  -----         \n",
            " 0   gender            14825 non-null  object        \n",
            " 1   age               14825 non-null  int64         \n",
            " 2   id                14825 non-null  object        \n",
            " 3   became_member_on  14825 non-null  datetime64[ns]\n",
            " 4   income            14825 non-null  float64       \n",
            "dtypes: datetime64[ns](1), float64(1), int64(1), object(2)\n",
            "memory usage: 694.9+ KB\n"
          ]
        }
      ],
      "source": [
        "# profile의 became_member_on 데이터를 시간 정보로 변환해줍니다.\n",
        "profile.became_member_on = pd.to_datetime(profile.became_member_on.astype(str), format='%Y%m%d')\n",
        "profile.info()"
      ]
    },
    {
      "cell_type": "markdown",
      "metadata": {
        "id": "HaoVpZZXqZrz"
      },
      "source": [
        "#### 성별에 관한 분석"
      ]
    },
    {
      "cell_type": "code",
      "execution_count": 147,
      "metadata": {
        "id": "8SgRbzOWqZrz",
        "colab": {
          "base_uri": "https://localhost:8080/"
        },
        "outputId": "4e21f8a6-ff3d-4142-fccd-3a5a2960df19"
      },
      "outputs": [
        {
          "output_type": "stream",
          "name": "stdout",
          "text": [
            "Gender Ratio\n",
            "Male   : 0.57\n",
            "Female : 0.41\n",
            "Other  : 0.01\n"
          ]
        }
      ],
      "source": [
        "total_num = len(profile)\n",
        "male_num = len(profile.loc[profile.gender == 'M'])\n",
        "female_num = len(profile.loc[profile.gender == 'F'])\n",
        "other_num = len(profile.loc[profile.gender == 'O'])\n",
        "print('Gender Ratio')\n",
        "print(f'Male   : {round(male_num/total_num, 2)}')\n",
        "print(f'Female : {round(female_num/total_num, 2)}')\n",
        "print(f'Other  : {round(other_num/total_num, 2)}')\n",
        "#이벤트에 참여한 성별 비율\n",
        "#남성의 참여 비율이 가장 높은 것을 확인할 수 있음."
      ]
    },
    {
      "cell_type": "code",
      "source": [
        "plt.figure(figsize=(8,6))\n",
        "plt.title('Group by gender')\n",
        "sns.countplot(data=profile, x='gender', palette='Set2')\n",
        "plt.show() #이벤트에 참여한 인원을 성별로 분류하여 그래프로 나타냄."
      ],
      "metadata": {
        "colab": {
          "base_uri": "https://localhost:8080/",
          "height": 404
        },
        "id": "98k9WQB34OBU",
        "outputId": "f7adc09d-0337-440e-f811-5e62447e9960"
      },
      "execution_count": 148,
      "outputs": [
        {
          "output_type": "display_data",
          "data": {
            "text/plain": [
              "<Figure size 576x432 with 1 Axes>"
            ],
            "image/png": "[encoded data removed]"
          },
          "metadata": {
            "needs_background": "light"
          }
        }
      ]
    },
    {
      "cell_type": "code",
      "source": [
        "male_income = profile.loc[profile.gender == 'M'].income.mean()\n",
        "female_income = profile.loc[profile.gender == 'F'].income.mean()\n",
        "other_income = profile.loc[profile.gender == 'O'].income.mean()\n",
        "\n",
        "print('Average incom grouped by gender')\n",
        "print(f'Male   : {round(male_income,2)}')\n",
        "print(f'Female : {round(female_income,2)}')\n",
        "print(f'Other  : {round(other_income,2)}')\n",
        "#평균적으로 여성 이벤트 참가자의 수입이 가장 높은 것을 확인할 수 있음. "
      ],
      "metadata": {
        "colab": {
          "base_uri": "https://localhost:8080/"
        },
        "id": "CiTHpmPf9XuD",
        "outputId": "6d843633-540b-435e-ca2d-972ab351fde2"
      },
      "execution_count": 149,
      "outputs": [
        {
          "output_type": "stream",
          "name": "stdout",
          "text": [
            "Average incom grouped by gender\n",
            "Male   : 61194.6\n",
            "Female : 71306.41\n",
            "Other  : 63287.74\n"
          ]
        }
      ]
    },
    {
      "cell_type": "code",
      "source": [
        "plt.figure(figsize=(8,6))\n",
        "plt.title('Group by gender')\n",
        "sns.barplot(data=profile, x='gender', y='income', palette='Set2')\n",
        "plt.show()#위의 결과를 그래프로 나타내면 이와 같다. "
      ],
      "metadata": {
        "colab": {
          "base_uri": "https://localhost:8080/",
          "height": 404
        },
        "id": "nSM16Rdg-rsp",
        "outputId": "c8780b5a-44b7-447b-f2a5-8be341bd8fb8"
      },
      "execution_count": 150,
      "outputs": [
        {
          "output_type": "display_data",
          "data": {
            "text/plain": [
              "<Figure size 576x432 with 1 Axes>"
            ],
            "image/png": "[encoded data removed]"
          },
          "metadata": {
            "needs_background": "light"
          }
        }
      ]
    },
    {
      "cell_type": "markdown",
      "source": [],
      "metadata": {
        "id": "08f1vrY64NyG"
      }
    },
    {
      "cell_type": "markdown",
      "metadata": {
        "id": "3AmNi48FqZr0"
      },
      "source": [
        "#### 나이에 대한 분석"
      ]
    },
    {
      "cell_type": "code",
      "execution_count": 151,
      "metadata": {
        "id": "kajf2_54qZr0",
        "colab": {
          "base_uri": "https://localhost:8080/",
          "height": 388
        },
        "outputId": "e744d8fb-7fc7-4fe1-9cb5-42c41903029a"
      },
      "outputs": [
        {
          "output_type": "display_data",
          "data": {
            "text/plain": [
              "<Figure size 720x432 with 1 Axes>"
            ],
            "image/png": "[encoded data removed]"
          },
          "metadata": {
            "needs_background": "light"
          }
        }
      ],
      "source": [
        "plt.figure(figsize=(10,6))\n",
        "sns.histplot(data=profile, x='age', bins=15)\n",
        "plt.show()#그래프를 통해 볼 수 있듯이, 이벤트에 참여한 인원 중 60대가 가장 많은 것으로 확인 된다."
      ]
    },
    {
      "cell_type": "code",
      "source": [
        "plt.figure(figsize=(10,6))\n",
        "sns.histplot(data=profile, x='age',hue='gender', bins=15, multiple='stack',palette='Set2')\n",
        "plt.show()\n",
        "#성별을 나누어 보아도 모든 성별에서 60대의 이벤트 참여율이 가장 높은 것으로 나타난다.\n",
        "#다만 20~40대의 경우 남성의 참여 인원이 다른 성별에 비해 많은 것이 확인된다. "
      ],
      "metadata": {
        "colab": {
          "base_uri": "https://localhost:8080/",
          "height": 388
        },
        "id": "LFCmLZkRBf2z",
        "outputId": "96d31279-3244-4b8f-c09c-fc7ac985d4ab"
      },
      "execution_count": 152,
      "outputs": [
        {
          "output_type": "display_data",
          "data": {
            "text/plain": [
              "<Figure size 720x432 with 1 Axes>"
            ],
            "image/png": "[encoded data removed]"
          },
          "metadata": {
            "needs_background": "light"
          }
        }
      ]
    },
    {
      "cell_type": "markdown",
      "source": [],
      "metadata": {
        "id": "qnZ9DpKZCe1J"
      }
    },
    {
      "cell_type": "markdown",
      "metadata": {
        "id": "i0qpaU28qZr0"
      },
      "source": [
        "#### 회원이 된 날짜에 대한 분석"
      ]
    },
    {
      "cell_type": "code",
      "execution_count": 153,
      "metadata": {
        "id": "-iqVM5AxqZr0",
        "colab": {
          "base_uri": "https://localhost:8080/",
          "height": 423
        },
        "outputId": "ae6fa990-96a6-4999-8ff9-329eb45b7c92"
      },
      "outputs": [
        {
          "output_type": "execute_result",
          "data": {
            "text/plain": [
              "      gender  age                                id became_member_on  \\\n",
              "1          F   55  0610b486422d4921ae7d2bf64640c50b       2017-07-15   \n",
              "3          F   75  78afa995795e4d85b5d9ceeca43f5fef       2017-05-09   \n",
              "5          M   68  e2127556f4f64592b11af22de27a7932       2018-04-26   \n",
              "8          M   65  389bc3fa690240e798340f5a15918d5c       2018-02-09   \n",
              "12         M   58  2eeac8d8feae4a8cad5a6af0499a211d       2017-11-11   \n",
              "...      ...  ...                               ...              ...   \n",
              "16995      F   45  6d5f3a774f3d4714ab0c092238f3a1d7       2018-06-04   \n",
              "16996      M   61  2cb4f97358b841b9a9773a7aa05a9d77       2018-07-13   \n",
              "16997      M   49  01d26f638c274aa0b965d24cefe3183f       2017-01-26   \n",
              "16998      F   83  9dc1421481194dcd9400aec7c9ae6366       2016-03-07   \n",
              "16999      F   62  e4052622e5ba45a8b96b59aba68cf068       2017-07-22   \n",
              "\n",
              "         income  join_year  join_month  \n",
              "1      112000.0       2017           7  \n",
              "3      100000.0       2017           5  \n",
              "5       70000.0       2018           4  \n",
              "8       53000.0       2018           2  \n",
              "12      51000.0       2017          11  \n",
              "...         ...        ...         ...  \n",
              "16995   54000.0       2018           6  \n",
              "16996   72000.0       2018           7  \n",
              "16997   73000.0       2017           1  \n",
              "16998   50000.0       2016           3  \n",
              "16999   82000.0       2017           7  \n",
              "\n",
              "[14825 rows x 7 columns]"
            ],
            "text/html": [
              "\n",
              "  <div id=\"df-3acf013f-de9f-481e-b48e-7a64adad5002\">\n",
              "    <div class=\"colab-df-container\">\n",
              "      <div>\n",
              "<style scoped>\n",
              "    .dataframe tbody tr th:only-of-type {\n",
              "        vertical-align: middle;\n",
              "    }\n",
              "\n",
              "    .dataframe tbody tr th {\n",
              "        vertical-align: top;\n",
              "    }\n",
              "\n",
              "    .dataframe thead th {\n",
              "        text-align: right;\n",
              "    }\n",
              "</style>\n",
              "<table border=\"1\" class=\"dataframe\">\n",
              "  <thead>\n",
              "    <tr style=\"text-align: right;\">\n",
              "      <th></th>\n",
              "      <th>gender</th>\n",
              "      <th>age</th>\n",
              "      <th>id</th>\n",
              "      <th>became_member_on</th>\n",
              "      <th>income</th>\n",
              "      <th>join_year</th>\n",
              "      <th>join_month</th>\n",
              "    </tr>\n",
              "  </thead>\n",
              "  <tbody>\n",
              "    <tr>\n",
              "      <th>1</th>\n",
              "      <td>F</td>\n",
              "      <td>55</td>\n",
              "      <td>0610b486422d4921ae7d2bf64640c50b</td>\n",
              "      <td>2017-07-15</td>\n",
              "      <td>112000.0</td>\n",
              "      <td>2017</td>\n",
              "      <td>7</td>\n",
              "    </tr>\n",
              "    <tr>\n",
              "      <th>3</th>\n",
              "      <td>F</td>\n",
              "      <td>75</td>\n",
              "      <td>78afa995795e4d85b5d9ceeca43f5fef</td>\n",
              "      <td>2017-05-09</td>\n",
              "      <td>100000.0</td>\n",
              "      <td>2017</td>\n",
              "      <td>5</td>\n",
              "    </tr>\n",
              "    <tr>\n",
              "      <th>5</th>\n",
              "      <td>M</td>\n",
              "      <td>68</td>\n",
              "      <td>e2127556f4f64592b11af22de27a7932</td>\n",
              "      <td>2018-04-26</td>\n",
              "      <td>70000.0</td>\n",
              "      <td>2018</td>\n",
              "      <td>4</td>\n",
              "    </tr>\n",
              "    <tr>\n",
              "      <th>8</th>\n",
              "      <td>M</td>\n",
              "      <td>65</td>\n",
              "      <td>389bc3fa690240e798340f5a15918d5c</td>\n",
              "      <td>2018-02-09</td>\n",
              "      <td>53000.0</td>\n",
              "      <td>2018</td>\n",
              "      <td>2</td>\n",
              "    </tr>\n",
              "    <tr>\n",
              "      <th>12</th>\n",
              "      <td>M</td>\n",
              "      <td>58</td>\n",
              "      <td>2eeac8d8feae4a8cad5a6af0499a211d</td>\n",
              "      <td>2017-11-11</td>\n",
              "      <td>51000.0</td>\n",
              "      <td>2017</td>\n",
              "      <td>11</td>\n",
              "    </tr>\n",
              "    <tr>\n",
              "      <th>...</th>\n",
              "      <td>...</td>\n",
              "      <td>...</td>\n",
              "      <td>...</td>\n",
              "      <td>...</td>\n",
              "      <td>...</td>\n",
              "      <td>...</td>\n",
              "      <td>...</td>\n",
              "    </tr>\n",
              "    <tr>\n",
              "      <th>16995</th>\n",
              "      <td>F</td>\n",
              "      <td>45</td>\n",
              "      <td>6d5f3a774f3d4714ab0c092238f3a1d7</td>\n",
              "      <td>2018-06-04</td>\n",
              "      <td>54000.0</td>\n",
              "      <td>2018</td>\n",
              "      <td>6</td>\n",
              "    </tr>\n",
              "    <tr>\n",
              "      <th>16996</th>\n",
              "      <td>M</td>\n",
              "      <td>61</td>\n",
              "      <td>2cb4f97358b841b9a9773a7aa05a9d77</td>\n",
              "      <td>2018-07-13</td>\n",
              "      <td>72000.0</td>\n",
              "      <td>2018</td>\n",
              "      <td>7</td>\n",
              "    </tr>\n",
              "    <tr>\n",
              "      <th>16997</th>\n",
              "      <td>M</td>\n",
              "      <td>49</td>\n",
              "      <td>01d26f638c274aa0b965d24cefe3183f</td>\n",
              "      <td>2017-01-26</td>\n",
              "      <td>73000.0</td>\n",
              "      <td>2017</td>\n",
              "      <td>1</td>\n",
              "    </tr>\n",
              "    <tr>\n",
              "      <th>16998</th>\n",
              "      <td>F</td>\n",
              "      <td>83</td>\n",
              "      <td>9dc1421481194dcd9400aec7c9ae6366</td>\n",
              "      <td>2016-03-07</td>\n",
              "      <td>50000.0</td>\n",
              "      <td>2016</td>\n",
              "      <td>3</td>\n",
              "    </tr>\n",
              "    <tr>\n",
              "      <th>16999</th>\n",
              "      <td>F</td>\n",
              "      <td>62</td>\n",
              "      <td>e4052622e5ba45a8b96b59aba68cf068</td>\n",
              "      <td>2017-07-22</td>\n",
              "      <td>82000.0</td>\n",
              "      <td>2017</td>\n",
              "      <td>7</td>\n",
              "    </tr>\n",
              "  </tbody>\n",
              "</table>\n",
              "<p>14825 rows × 7 columns</p>\n",
              "</div>\n",
              "      <button class=\"colab-df-convert\" onclick=\"convertToInteractive('df-3acf013f-de9f-481e-b48e-7a64adad5002')\"\n",
              "              title=\"Convert this dataframe to an interactive table.\"\n",
              "              style=\"display:none;\">\n",
              "        \n",
              "  <svg xmlns=\"http://www.w3.org/2000/svg\" height=\"24px\"viewBox=\"0 0 24 24\"\n",
              "       width=\"24px\">\n",
              "    <path d=\"M0 0h24v24H0V0z\" fill=\"none\"/>\n",
              "    <path d=\"M18.56 5.44l.94 2.06.94-2.06 2.06-.94-2.06-.94-.94-2.06-.94 2.06-2.06.94zm-11 1L8.5 8.5l.94-2.06 2.06-.94-2.06-.94L8.5 2.5l-.94 2.06-2.06.94zm10 10l.94 2.06.94-2.06 2.06-.94-2.06-.94-.94-2.06-.94 2.06-2.06.94z\"/><path d=\"M17.41 7.96l-1.37-1.37c-.4-.4-.92-.59-1.43-.59-.52 0-1.04.2-1.43.59L10.3 9.45l-7.72 7.72c-.78.78-.78 2.05 0 2.83L4 21.41c.39.39.9.59 1.41.59.51 0 1.02-.2 1.41-.59l7.78-7.78 2.81-2.81c.8-.78.8-2.07 0-2.86zM5.41 20L4 18.59l7.72-7.72 1.47 1.35L5.41 20z\"/>\n",
              "  </svg>\n",
              "      </button>\n",
              "      \n",
              "  <style>\n",
              "    .colab-df-container {\n",
              "      display:flex;\n",
              "      flex-wrap:wrap;\n",
              "      gap: 12px;\n",
              "    }\n",
              "\n",
              "    .colab-df-convert {\n",
              "      background-color: #E8F0FE;\n",
              "      border: none;\n",
              "      border-radius: 50%;\n",
              "      cursor: pointer;\n",
              "      display: none;\n",
              "      fill: #1967D2;\n",
              "      height: 32px;\n",
              "      padding: 0 0 0 0;\n",
              "      width: 32px;\n",
              "    }\n",
              "\n",
              "    .colab-df-convert:hover {\n",
              "      background-color: #E2EBFA;\n",
              "      box-shadow: 0px 1px 2px rgba(60, 64, 67, 0.3), 0px 1px 3px 1px rgba(60, 64, 67, 0.15);\n",
              "      fill: #174EA6;\n",
              "    }\n",
              "\n",
              "    [theme=dark] .colab-df-convert {\n",
              "      background-color: #3B4455;\n",
              "      fill: #D2E3FC;\n",
              "    }\n",
              "\n",
              "    [theme=dark] .colab-df-convert:hover {\n",
              "      background-color: #434B5C;\n",
              "      box-shadow: 0px 1px 3px 1px rgba(0, 0, 0, 0.15);\n",
              "      filter: drop-shadow(0px 1px 2px rgba(0, 0, 0, 0.3));\n",
              "      fill: #FFFFFF;\n",
              "    }\n",
              "  </style>\n",
              "\n",
              "      <script>\n",
              "        const buttonEl =\n",
              "          document.querySelector('#df-3acf013f-de9f-481e-b48e-7a64adad5002 button.colab-df-convert');\n",
              "        buttonEl.style.display =\n",
              "          google.colab.kernel.accessAllowed ? 'block' : 'none';\n",
              "\n",
              "        async function convertToInteractive(key) {\n",
              "          const element = document.querySelector('#df-3acf013f-de9f-481e-b48e-7a64adad5002');\n",
              "          const dataTable =\n",
              "            await google.colab.kernel.invokeFunction('convertToInteractive',\n",
              "                                                     [key], {});\n",
              "          if (!dataTable) return;\n",
              "\n",
              "          const docLinkHtml = 'Like what you see? Visit the ' +\n",
              "            '<a target=\"_blank\" href=https://colab.research.google.com/notebooks/data_table.ipynb>data table notebook</a>'\n",
              "            + ' to learn more about interactive tables.';\n",
              "          element.innerHTML = '';\n",
              "          dataTable['output_type'] = 'display_data';\n",
              "          await google.colab.output.renderOutput(dataTable, element);\n",
              "          const docLink = document.createElement('div');\n",
              "          docLink.innerHTML = docLinkHtml;\n",
              "          element.appendChild(docLink);\n",
              "        }\n",
              "      </script>\n",
              "    </div>\n",
              "  </div>\n",
              "  "
            ]
          },
          "metadata": {},
          "execution_count": 153
        }
      ],
      "source": [
        "profile['join_year'] = profile.became_member_on.dt.year\n",
        "profile['join_month'] = profile.became_member_on.dt.month\n",
        "profile"
      ]
    },
    {
      "cell_type": "code",
      "source": [
        "plt.figure(figsize=(8,6))\n",
        "x = profile.join_year.value_counts().index\n",
        "y = profile.join_year.value_counts().values\n",
        "sns.barplot(x=x, y=y, order=x)\n",
        "plt.show() #2017년에 가장 많이 가입한 것을 확인할 수 있다. "
      ],
      "metadata": {
        "colab": {
          "base_uri": "https://localhost:8080/",
          "height": 374
        },
        "id": "4a0ULvPyC0xF",
        "outputId": "03907180-ff6f-4f1f-f6a2-0ea25f69d8ba"
      },
      "execution_count": 154,
      "outputs": [
        {
          "output_type": "display_data",
          "data": {
            "text/plain": [
              "<Figure size 576x432 with 1 Axes>"
            ],
            "image/png": "[encoded data removed]"
          },
          "metadata": {
            "needs_background": "light"
          }
        }
      ]
    },
    {
      "cell_type": "code",
      "source": [
        "plt.figure(figsize=(8,6))\n",
        "x = profile.join_month.value_counts().index\n",
        "y = profile.join_month.value_counts().values\n",
        "sns.barplot(x=x, y=y, order=x)\n",
        "#sns.countplot(data=profile, x='join_month', palette='Set2')\n",
        "plt.show() \n",
        "#8월~12월, 1월까지의 기간에 가입한 인원이 많은 것을 확인할 수 있다.\n",
        "# 해당 월들에 연휴 기간이 많기 때문이 아닌가 추측된다. "
      ],
      "metadata": {
        "colab": {
          "base_uri": "https://localhost:8080/",
          "height": 374
        },
        "id": "-a1wOvr6D8zN",
        "outputId": "89378f23-26b3-4633-e6fe-a6976dd556bd"
      },
      "execution_count": 155,
      "outputs": [
        {
          "output_type": "display_data",
          "data": {
            "text/plain": [
              "<Figure size 576x432 with 1 Axes>"
            ],
            "image/png": "[encoded data removed]"
          },
          "metadata": {
            "needs_background": "light"
          }
        }
      ]
    },
    {
      "cell_type": "markdown",
      "metadata": {
        "id": "HmFcMroTqZr0"
      },
      "source": [
        "#### 수입에 대한 분석"
      ]
    },
    {
      "cell_type": "code",
      "source": [
        "print('Average Income') #평균 수입\n",
        "print(f'{round(profile.income.mean(), 2)}')"
      ],
      "metadata": {
        "colab": {
          "base_uri": "https://localhost:8080/"
        },
        "id": "N2bkrg2YGnXm",
        "outputId": "146a5f17-8373-4ae3-d578-23d05d4b5392"
      },
      "execution_count": 156,
      "outputs": [
        {
          "output_type": "stream",
          "name": "stdout",
          "text": [
            "Average Income\n",
            "65404.99\n"
          ]
        }
      ]
    },
    {
      "cell_type": "code",
      "execution_count": 157,
      "metadata": {
        "id": "sPxOUYGJqZr1",
        "colab": {
          "base_uri": "https://localhost:8080/",
          "height": 388
        },
        "outputId": "cba93273-573d-4da5-d88f-9b91ae0ed364"
      },
      "outputs": [
        {
          "output_type": "display_data",
          "data": {
            "text/plain": [
              "<Figure size 576x432 with 1 Axes>"
            ],
            "image/png": "[encoded data removed]"
          },
          "metadata": {
            "needs_background": "light"
          }
        }
      ],
      "source": [
        "plt.figure(figsize=(8,6))\n",
        "sns.kdeplot(data=profile,x='age', y='income', palette='Set2')\n",
        "plt.show()\n",
        "#kdeplot을 사용해 나이별 수입 밀도를 분석해 보면,  \n",
        "#60대 부근 연령대에서 계산한 평균 수입 쪽으로 인원이 밀집되어 있는 것을 확인할 수 있다. \n",
        "#이는 위에서 확인했듯이 60대 참여자의 수가 가장 많기 때문에 발생한 현상이다."
      ]
    },
    {
      "cell_type": "code",
      "source": [
        "profile['age_category'] = profile.age.apply(lambda x : (x //10)*10)\n",
        "profile['age_category'] \n",
        "#나이를 구간 별로 나누어 수익을 비교해 보고자 한다.(10년 기준을 자른다.)"
      ],
      "metadata": {
        "colab": {
          "base_uri": "https://localhost:8080/"
        },
        "id": "9e7JWMPBYfit",
        "outputId": "8519ef61-bfab-49f3-d5ee-6e0883fb056b"
      },
      "execution_count": 158,
      "outputs": [
        {
          "output_type": "execute_result",
          "data": {
            "text/plain": [
              "1        50\n",
              "3        70\n",
              "5        60\n",
              "8        60\n",
              "12       50\n",
              "         ..\n",
              "16995    40\n",
              "16996    60\n",
              "16997    40\n",
              "16998    80\n",
              "16999    60\n",
              "Name: age_category, Length: 14825, dtype: int64"
            ]
          },
          "metadata": {},
          "execution_count": 158
        }
      ]
    },
    {
      "cell_type": "code",
      "source": [
        "plt.figure(figsize=(8,6))\n",
        "sns.barplot(data=profile, x='age_category', y='income', palette='Set2')\n",
        "plt.show()\n",
        "#전반적으로 연령이 올라갈 수록 평균 수입이 증가하는 것을 확인할 수 있다. "
      ],
      "metadata": {
        "colab": {
          "base_uri": "https://localhost:8080/",
          "height": 388
        },
        "id": "KPpX3p8NZ2Q9",
        "outputId": "02ae5ca9-7203-415b-f353-cf730b8f7431"
      },
      "execution_count": 159,
      "outputs": [
        {
          "output_type": "display_data",
          "data": {
            "text/plain": [
              "<Figure size 576x432 with 1 Axes>"
            ],
            "image/png": "[encoded data removed]"
          },
          "metadata": {
            "needs_background": "light"
          }
        }
      ]
    },
    {
      "cell_type": "markdown",
      "metadata": {
        "id": "h7QbVZ1xqZr1"
      },
      "source": [
        "#### profile 데이터에 대한 상관관계 분석"
      ]
    },
    {
      "cell_type": "code",
      "execution_count": 160,
      "metadata": {
        "id": "qJBiV7YrqZr1",
        "colab": {
          "base_uri": "https://localhost:8080/",
          "height": 407
        },
        "outputId": "044892e6-878a-49dc-ccb9-85fb133e3383"
      },
      "outputs": [
        {
          "output_type": "display_data",
          "data": {
            "text/plain": [
              "<Figure size 432x432 with 2 Axes>"
            ],
            "image/png": "[encoded data removed]"
          },
          "metadata": {
            "needs_background": "light"
          }
        }
      ],
      "source": [
        "plt.figure(figsize=(6,6))\n",
        "sns.heatmap(data=profile.corr(), square=True, annot=True)\n",
        "plt.show()\n",
        "#각 데이터끼리 유의미한 상관관계를 나타내는 부분은 나이-수입 관계 정도로 보인다. \n",
        "#나이가 많을 수록 평균 수입이 올라간다. "
      ]
    },
    {
      "cell_type": "markdown",
      "metadata": {
        "id": "57vVtgngqZr1"
      },
      "source": [
        "### 4. transcript에 대한 분석\n",
        "\n",
        "- 각 column마다 원하는 통계량을 찾은 뒤, 해당 통계량을 멋지게 시각화해 줄 plot을 seaborn에서 가져와 구현합니다.\n",
        "\n",
        "\n",
        "- `person`과 `values` column은 분석 대상에서 제외합니다.\n",
        "\n",
        "\n",
        "> values에 대한 패턴이 궁금하다면, 아래 코드를 참고해보세요 ! (배우지 않은 내용이 있어, 어려울 수 있습니다)"
      ]
    },
    {
      "cell_type": "code",
      "source": [
        "transcript.info()"
      ],
      "metadata": {
        "colab": {
          "base_uri": "https://localhost:8080/"
        },
        "id": "dBkVhWnDbLUA",
        "outputId": "85dec472-b626-4a74-ead2-846d7127ca90"
      },
      "execution_count": 161,
      "outputs": [
        {
          "output_type": "stream",
          "name": "stdout",
          "text": [
            "<class 'pandas.core.frame.DataFrame'>\n",
            "RangeIndex: 306534 entries, 0 to 306533\n",
            "Data columns (total 4 columns):\n",
            " #   Column  Non-Null Count   Dtype \n",
            "---  ------  --------------   ----- \n",
            " 0   person  306534 non-null  object\n",
            " 1   event   306534 non-null  object\n",
            " 2   value   306534 non-null  object\n",
            " 3   time    306534 non-null  int64 \n",
            "dtypes: int64(1), object(3)\n",
            "memory usage: 9.4+ MB\n"
          ]
        }
      ]
    },
    {
      "cell_type": "markdown",
      "metadata": {
        "id": "0CVpCIb4qZr1"
      },
      "source": [
        "#### event에 대한 분석"
      ]
    },
    {
      "cell_type": "code",
      "execution_count": 162,
      "metadata": {
        "id": "VZVE3IGhqZr1",
        "colab": {
          "base_uri": "https://localhost:8080/",
          "height": 388
        },
        "outputId": "9a1d83c1-384a-4044-97d5-3e3ce1ca4679"
      },
      "outputs": [
        {
          "output_type": "display_data",
          "data": {
            "text/plain": [
              "<Figure size 576x432 with 1 Axes>"
            ],
            "image/png": "[encoded data removed]"
          },
          "metadata": {
            "needs_background": "light"
          }
        }
      ],
      "source": [
        "plt.figure(figsize=(8,6))\n",
        "sns.countplot(data=transcript, x='event', palette='Set2')\n",
        "plt.show()\n",
        "#대부분의 고객이 이벤트에 참여한 후 결제까지 완료한 것을 확인할 수 있다. "
      ]
    },
    {
      "cell_type": "code",
      "source": [
        "pd.pivot_table(data=transcript, index='event', values='time')\n",
        "#각 단계와 그에 따른 시간에는 큰 상관관계가 없어 보인다. "
      ],
      "metadata": {
        "colab": {
          "base_uri": "https://localhost:8080/",
          "height": 206
        },
        "id": "njQIpD2ZbDRm",
        "outputId": "7ccd227b-e61c-4622-8eff-24baa9903a72"
      },
      "execution_count": 163,
      "outputs": [
        {
          "output_type": "execute_result",
          "data": {
            "text/plain": [
              "                       time\n",
              "event                      \n",
              "offer completed  401.052801\n",
              "offer received   332.579519\n",
              "offer viewed     354.290515\n",
              "transaction      381.584334"
            ],
            "text/html": [
              "\n",
              "  <div id=\"df-5482137d-1915-4779-8689-ab326569bbe1\">\n",
              "    <div class=\"colab-df-container\">\n",
              "      <div>\n",
              "<style scoped>\n",
              "    .dataframe tbody tr th:only-of-type {\n",
              "        vertical-align: middle;\n",
              "    }\n",
              "\n",
              "    .dataframe tbody tr th {\n",
              "        vertical-align: top;\n",
              "    }\n",
              "\n",
              "    .dataframe thead th {\n",
              "        text-align: right;\n",
              "    }\n",
              "</style>\n",
              "<table border=\"1\" class=\"dataframe\">\n",
              "  <thead>\n",
              "    <tr style=\"text-align: right;\">\n",
              "      <th></th>\n",
              "      <th>time</th>\n",
              "    </tr>\n",
              "    <tr>\n",
              "      <th>event</th>\n",
              "      <th></th>\n",
              "    </tr>\n",
              "  </thead>\n",
              "  <tbody>\n",
              "    <tr>\n",
              "      <th>offer completed</th>\n",
              "      <td>401.052801</td>\n",
              "    </tr>\n",
              "    <tr>\n",
              "      <th>offer received</th>\n",
              "      <td>332.579519</td>\n",
              "    </tr>\n",
              "    <tr>\n",
              "      <th>offer viewed</th>\n",
              "      <td>354.290515</td>\n",
              "    </tr>\n",
              "    <tr>\n",
              "      <th>transaction</th>\n",
              "      <td>381.584334</td>\n",
              "    </tr>\n",
              "  </tbody>\n",
              "</table>\n",
              "</div>\n",
              "      <button class=\"colab-df-convert\" onclick=\"convertToInteractive('df-5482137d-1915-4779-8689-ab326569bbe1')\"\n",
              "              title=\"Convert this dataframe to an interactive table.\"\n",
              "              style=\"display:none;\">\n",
              "        \n",
              "  <svg xmlns=\"http://www.w3.org/2000/svg\" height=\"24px\"viewBox=\"0 0 24 24\"\n",
              "       width=\"24px\">\n",
              "    <path d=\"M0 0h24v24H0V0z\" fill=\"none\"/>\n",
              "    <path d=\"M18.56 5.44l.94 2.06.94-2.06 2.06-.94-2.06-.94-.94-2.06-.94 2.06-2.06.94zm-11 1L8.5 8.5l.94-2.06 2.06-.94-2.06-.94L8.5 2.5l-.94 2.06-2.06.94zm10 10l.94 2.06.94-2.06 2.06-.94-2.06-.94-.94-2.06-.94 2.06-2.06.94z\"/><path d=\"M17.41 7.96l-1.37-1.37c-.4-.4-.92-.59-1.43-.59-.52 0-1.04.2-1.43.59L10.3 9.45l-7.72 7.72c-.78.78-.78 2.05 0 2.83L4 21.41c.39.39.9.59 1.41.59.51 0 1.02-.2 1.41-.59l7.78-7.78 2.81-2.81c.8-.78.8-2.07 0-2.86zM5.41 20L4 18.59l7.72-7.72 1.47 1.35L5.41 20z\"/>\n",
              "  </svg>\n",
              "      </button>\n",
              "      \n",
              "  <style>\n",
              "    .colab-df-container {\n",
              "      display:flex;\n",
              "      flex-wrap:wrap;\n",
              "      gap: 12px;\n",
              "    }\n",
              "\n",
              "    .colab-df-convert {\n",
              "      background-color: #E8F0FE;\n",
              "      border: none;\n",
              "      border-radius: 50%;\n",
              "      cursor: pointer;\n",
              "      display: none;\n",
              "      fill: #1967D2;\n",
              "      height: 32px;\n",
              "      padding: 0 0 0 0;\n",
              "      width: 32px;\n",
              "    }\n",
              "\n",
              "    .colab-df-convert:hover {\n",
              "      background-color: #E2EBFA;\n",
              "      box-shadow: 0px 1px 2px rgba(60, 64, 67, 0.3), 0px 1px 3px 1px rgba(60, 64, 67, 0.15);\n",
              "      fill: #174EA6;\n",
              "    }\n",
              "\n",
              "    [theme=dark] .colab-df-convert {\n",
              "      background-color: #3B4455;\n",
              "      fill: #D2E3FC;\n",
              "    }\n",
              "\n",
              "    [theme=dark] .colab-df-convert:hover {\n",
              "      background-color: #434B5C;\n",
              "      box-shadow: 0px 1px 3px 1px rgba(0, 0, 0, 0.15);\n",
              "      filter: drop-shadow(0px 1px 2px rgba(0, 0, 0, 0.3));\n",
              "      fill: #FFFFFF;\n",
              "    }\n",
              "  </style>\n",
              "\n",
              "      <script>\n",
              "        const buttonEl =\n",
              "          document.querySelector('#df-5482137d-1915-4779-8689-ab326569bbe1 button.colab-df-convert');\n",
              "        buttonEl.style.display =\n",
              "          google.colab.kernel.accessAllowed ? 'block' : 'none';\n",
              "\n",
              "        async function convertToInteractive(key) {\n",
              "          const element = document.querySelector('#df-5482137d-1915-4779-8689-ab326569bbe1');\n",
              "          const dataTable =\n",
              "            await google.colab.kernel.invokeFunction('convertToInteractive',\n",
              "                                                     [key], {});\n",
              "          if (!dataTable) return;\n",
              "\n",
              "          const docLinkHtml = 'Like what you see? Visit the ' +\n",
              "            '<a target=\"_blank\" href=https://colab.research.google.com/notebooks/data_table.ipynb>data table notebook</a>'\n",
              "            + ' to learn more about interactive tables.';\n",
              "          element.innerHTML = '';\n",
              "          dataTable['output_type'] = 'display_data';\n",
              "          await google.colab.output.renderOutput(dataTable, element);\n",
              "          const docLink = document.createElement('div');\n",
              "          docLink.innerHTML = docLinkHtml;\n",
              "          element.appendChild(docLink);\n",
              "        }\n",
              "      </script>\n",
              "    </div>\n",
              "  </div>\n",
              "  "
            ]
          },
          "metadata": {},
          "execution_count": 163
        }
      ]
    },
    {
      "cell_type": "code",
      "source": [
        "total = len(transcript.event)\n",
        "transaction = len(transcript.loc[transcript.event == 'transaction'])\n",
        "transaction_time = transcript.loc[transcript.event == 'transaction'].time.mean()\n",
        "\n",
        "print(f'Transaction Ratio : {round(transaction/total,2)*100}%')\n",
        "# 45%에 해당하는 인원이 이벤트에 참여한 후 결제까지 완료한 것을 확인할 수 있다.\n",
        "print(f'Transaction Time  : {round(transaction_time,2)}')\n",
        "# 결제까지 완료한 인원이 이벤트를 완료한데 까지 걸린 평균 시간 또한 구한다. "
      ],
      "metadata": {
        "colab": {
          "base_uri": "https://localhost:8080/"
        },
        "id": "Infd7UD1bxjQ",
        "outputId": "84e5eaff-d9dc-4173-9d32-f329e03ba816"
      },
      "execution_count": 164,
      "outputs": [
        {
          "output_type": "stream",
          "name": "stdout",
          "text": [
            "Transaction Ratio : 45.0%\n",
            "Transaction Time  : 381.58\n"
          ]
        }
      ]
    },
    {
      "cell_type": "markdown",
      "metadata": {
        "id": "VVuYVHuqqZr1"
      },
      "source": [
        "#### time에 대한 분석"
      ]
    },
    {
      "cell_type": "code",
      "execution_count": 165,
      "metadata": {
        "id": "6tc_FkwjqZr2",
        "colab": {
          "base_uri": "https://localhost:8080/"
        },
        "outputId": "ee497d5d-2969-4c0d-dfd0-a9933ef005e4"
      },
      "outputs": [
        {
          "output_type": "stream",
          "name": "stdout",
          "text": [
            "[0, 168, 336, 408, 504, 576]\n",
            "168 168 72 96 72 "
          ]
        }
      ],
      "source": [
        "temp = sorted(transcript.time.value_counts()[:6].index)\n",
        "print(temp)\n",
        "for i in range(len(temp)-1):\n",
        "  print(temp[i+1] - temp[i], end=\" \")"
      ]
    },
    {
      "cell_type": "code",
      "source": [
        "plt.figure(figsize=(8,6))\n",
        "sns.histplot(data=transcript, x='time', hue='event')\n",
        "plt.show()"
      ],
      "metadata": {
        "colab": {
          "base_uri": "https://localhost:8080/",
          "height": 388
        },
        "id": "2s9Dm1-EeFPY",
        "outputId": "87f52910-35a6-4de2-ac42-f4334016e024"
      },
      "execution_count": 166,
      "outputs": [
        {
          "output_type": "display_data",
          "data": {
            "text/plain": [
              "<Figure size 576x432 with 1 Axes>"
            ],
            "image/png": "[encoded data removed]"
          },
          "metadata": {
            "needs_background": "light"
          }
        }
      ]
    },
    {
      "cell_type": "code",
      "source": [
        "temp_df = transcript.loc[transcript.time.isin(temp), :]\n",
        "temp_df"
      ],
      "metadata": {
        "colab": {
          "base_uri": "https://localhost:8080/",
          "height": 423
        },
        "id": "sdgBw6y0eJJN",
        "outputId": "e9d42bd6-8cfb-4dfb-fd79-57f4dd554461"
      },
      "execution_count": 168,
      "outputs": [
        {
          "output_type": "execute_result",
          "data": {
            "text/plain": [
              "                                  person           event  \\\n",
              "0       78afa995795e4d85b5d9ceeca43f5fef  offer received   \n",
              "1       a03223e636434f42ac4c3df47e8bac43  offer received   \n",
              "2       e2127556f4f64592b11af22de27a7932  offer received   \n",
              "3       8ec6ce2a7e7949b1bf142def7d0e0586  offer received   \n",
              "4       68617ca6246f4fbc85e91a2a49552598  offer received   \n",
              "...                                  ...             ...   \n",
              "262132  08eb126ad33f447ca3ad076482445c05     transaction   \n",
              "262133  1b4df4b48bf64727a4c445909aea1251    offer viewed   \n",
              "262134  ff737c250d2343729ade04c4f6eb1001     transaction   \n",
              "262135  400d0536e8794cbb855b0d882d67cbda    offer viewed   \n",
              "262136  01d26f638c274aa0b965d24cefe3183f     transaction   \n",
              "\n",
              "                                                   value  time  \n",
              "0       {'offer id': '9b98b8c7a33c4b65b9aebfe6a799e6d9'}     0  \n",
              "1       {'offer id': '0b1e1539f2cc45b7b9fa7c272da2e1d7'}     0  \n",
              "2       {'offer id': '2906b810c7d4411798c6938adc9daaa5'}     0  \n",
              "3       {'offer id': 'fafdcd668e3743c1bb461111dcafc2a4'}     0  \n",
              "4       {'offer id': '4d5c57ea9a6940dd891ad53e9dbe8da0'}     0  \n",
              "...                                                  ...   ...  \n",
              "262132                                 {'amount': 16.93}   576  \n",
              "262133  {'offer id': 'fafdcd668e3743c1bb461111dcafc2a4'}   576  \n",
              "262134                                  {'amount': 4.78}   576  \n",
              "262135  {'offer id': '2298d6c36e964ae4a3e7e9706d1fb8c2'}   576  \n",
              "262136                                  {'amount': 6.61}   576  \n",
              "\n",
              "[98880 rows x 4 columns]"
            ],
            "text/html": [
              "\n",
              "  <div id=\"df-cd953217-86dd-49c7-ba09-418f48994779\">\n",
              "    <div class=\"colab-df-container\">\n",
              "      <div>\n",
              "<style scoped>\n",
              "    .dataframe tbody tr th:only-of-type {\n",
              "        vertical-align: middle;\n",
              "    }\n",
              "\n",
              "    .dataframe tbody tr th {\n",
              "        vertical-align: top;\n",
              "    }\n",
              "\n",
              "    .dataframe thead th {\n",
              "        text-align: right;\n",
              "    }\n",
              "</style>\n",
              "<table border=\"1\" class=\"dataframe\">\n",
              "  <thead>\n",
              "    <tr style=\"text-align: right;\">\n",
              "      <th></th>\n",
              "      <th>person</th>\n",
              "      <th>event</th>\n",
              "      <th>value</th>\n",
              "      <th>time</th>\n",
              "    </tr>\n",
              "  </thead>\n",
              "  <tbody>\n",
              "    <tr>\n",
              "      <th>0</th>\n",
              "      <td>78afa995795e4d85b5d9ceeca43f5fef</td>\n",
              "      <td>offer received</td>\n",
              "      <td>{'offer id': '9b98b8c7a33c4b65b9aebfe6a799e6d9'}</td>\n",
              "      <td>0</td>\n",
              "    </tr>\n",
              "    <tr>\n",
              "      <th>1</th>\n",
              "      <td>a03223e636434f42ac4c3df47e8bac43</td>\n",
              "      <td>offer received</td>\n",
              "      <td>{'offer id': '0b1e1539f2cc45b7b9fa7c272da2e1d7'}</td>\n",
              "      <td>0</td>\n",
              "    </tr>\n",
              "    <tr>\n",
              "      <th>2</th>\n",
              "      <td>e2127556f4f64592b11af22de27a7932</td>\n",
              "      <td>offer received</td>\n",
              "      <td>{'offer id': '2906b810c7d4411798c6938adc9daaa5'}</td>\n",
              "      <td>0</td>\n",
              "    </tr>\n",
              "    <tr>\n",
              "      <th>3</th>\n",
              "      <td>8ec6ce2a7e7949b1bf142def7d0e0586</td>\n",
              "      <td>offer received</td>\n",
              "      <td>{'offer id': 'fafdcd668e3743c1bb461111dcafc2a4'}</td>\n",
              "      <td>0</td>\n",
              "    </tr>\n",
              "    <tr>\n",
              "      <th>4</th>\n",
              "      <td>68617ca6246f4fbc85e91a2a49552598</td>\n",
              "      <td>offer received</td>\n",
              "      <td>{'offer id': '4d5c57ea9a6940dd891ad53e9dbe8da0'}</td>\n",
              "      <td>0</td>\n",
              "    </tr>\n",
              "    <tr>\n",
              "      <th>...</th>\n",
              "      <td>...</td>\n",
              "      <td>...</td>\n",
              "      <td>...</td>\n",
              "      <td>...</td>\n",
              "    </tr>\n",
              "    <tr>\n",
              "      <th>262132</th>\n",
              "      <td>08eb126ad33f447ca3ad076482445c05</td>\n",
              "      <td>transaction</td>\n",
              "      <td>{'amount': 16.93}</td>\n",
              "      <td>576</td>\n",
              "    </tr>\n",
              "    <tr>\n",
              "      <th>262133</th>\n",
              "      <td>1b4df4b48bf64727a4c445909aea1251</td>\n",
              "      <td>offer viewed</td>\n",
              "      <td>{'offer id': 'fafdcd668e3743c1bb461111dcafc2a4'}</td>\n",
              "      <td>576</td>\n",
              "    </tr>\n",
              "    <tr>\n",
              "      <th>262134</th>\n",
              "      <td>ff737c250d2343729ade04c4f6eb1001</td>\n",
              "      <td>transaction</td>\n",
              "      <td>{'amount': 4.78}</td>\n",
              "      <td>576</td>\n",
              "    </tr>\n",
              "    <tr>\n",
              "      <th>262135</th>\n",
              "      <td>400d0536e8794cbb855b0d882d67cbda</td>\n",
              "      <td>offer viewed</td>\n",
              "      <td>{'offer id': '2298d6c36e964ae4a3e7e9706d1fb8c2'}</td>\n",
              "      <td>576</td>\n",
              "    </tr>\n",
              "    <tr>\n",
              "      <th>262136</th>\n",
              "      <td>01d26f638c274aa0b965d24cefe3183f</td>\n",
              "      <td>transaction</td>\n",
              "      <td>{'amount': 6.61}</td>\n",
              "      <td>576</td>\n",
              "    </tr>\n",
              "  </tbody>\n",
              "</table>\n",
              "<p>98880 rows × 4 columns</p>\n",
              "</div>\n",
              "      <button class=\"colab-df-convert\" onclick=\"convertToInteractive('df-cd953217-86dd-49c7-ba09-418f48994779')\"\n",
              "              title=\"Convert this dataframe to an interactive table.\"\n",
              "              style=\"display:none;\">\n",
              "        \n",
              "  <svg xmlns=\"http://www.w3.org/2000/svg\" height=\"24px\"viewBox=\"0 0 24 24\"\n",
              "       width=\"24px\">\n",
              "    <path d=\"M0 0h24v24H0V0z\" fill=\"none\"/>\n",
              "    <path d=\"M18.56 5.44l.94 2.06.94-2.06 2.06-.94-2.06-.94-.94-2.06-.94 2.06-2.06.94zm-11 1L8.5 8.5l.94-2.06 2.06-.94-2.06-.94L8.5 2.5l-.94 2.06-2.06.94zm10 10l.94 2.06.94-2.06 2.06-.94-2.06-.94-.94-2.06-.94 2.06-2.06.94z\"/><path d=\"M17.41 7.96l-1.37-1.37c-.4-.4-.92-.59-1.43-.59-.52 0-1.04.2-1.43.59L10.3 9.45l-7.72 7.72c-.78.78-.78 2.05 0 2.83L4 21.41c.39.39.9.59 1.41.59.51 0 1.02-.2 1.41-.59l7.78-7.78 2.81-2.81c.8-.78.8-2.07 0-2.86zM5.41 20L4 18.59l7.72-7.72 1.47 1.35L5.41 20z\"/>\n",
              "  </svg>\n",
              "      </button>\n",
              "      \n",
              "  <style>\n",
              "    .colab-df-container {\n",
              "      display:flex;\n",
              "      flex-wrap:wrap;\n",
              "      gap: 12px;\n",
              "    }\n",
              "\n",
              "    .colab-df-convert {\n",
              "      background-color: #E8F0FE;\n",
              "      border: none;\n",
              "      border-radius: 50%;\n",
              "      cursor: pointer;\n",
              "      display: none;\n",
              "      fill: #1967D2;\n",
              "      height: 32px;\n",
              "      padding: 0 0 0 0;\n",
              "      width: 32px;\n",
              "    }\n",
              "\n",
              "    .colab-df-convert:hover {\n",
              "      background-color: #E2EBFA;\n",
              "      box-shadow: 0px 1px 2px rgba(60, 64, 67, 0.3), 0px 1px 3px 1px rgba(60, 64, 67, 0.15);\n",
              "      fill: #174EA6;\n",
              "    }\n",
              "\n",
              "    [theme=dark] .colab-df-convert {\n",
              "      background-color: #3B4455;\n",
              "      fill: #D2E3FC;\n",
              "    }\n",
              "\n",
              "    [theme=dark] .colab-df-convert:hover {\n",
              "      background-color: #434B5C;\n",
              "      box-shadow: 0px 1px 3px 1px rgba(0, 0, 0, 0.15);\n",
              "      filter: drop-shadow(0px 1px 2px rgba(0, 0, 0, 0.3));\n",
              "      fill: #FFFFFF;\n",
              "    }\n",
              "  </style>\n",
              "\n",
              "      <script>\n",
              "        const buttonEl =\n",
              "          document.querySelector('#df-cd953217-86dd-49c7-ba09-418f48994779 button.colab-df-convert');\n",
              "        buttonEl.style.display =\n",
              "          google.colab.kernel.accessAllowed ? 'block' : 'none';\n",
              "\n",
              "        async function convertToInteractive(key) {\n",
              "          const element = document.querySelector('#df-cd953217-86dd-49c7-ba09-418f48994779');\n",
              "          const dataTable =\n",
              "            await google.colab.kernel.invokeFunction('convertToInteractive',\n",
              "                                                     [key], {});\n",
              "          if (!dataTable) return;\n",
              "\n",
              "          const docLinkHtml = 'Like what you see? Visit the ' +\n",
              "            '<a target=\"_blank\" href=https://colab.research.google.com/notebooks/data_table.ipynb>data table notebook</a>'\n",
              "            + ' to learn more about interactive tables.';\n",
              "          element.innerHTML = '';\n",
              "          dataTable['output_type'] = 'display_data';\n",
              "          await google.colab.output.renderOutput(dataTable, element);\n",
              "          const docLink = document.createElement('div');\n",
              "          docLink.innerHTML = docLinkHtml;\n",
              "          element.appendChild(docLink);\n",
              "        }\n",
              "      </script>\n",
              "    </div>\n",
              "  </div>\n",
              "  "
            ]
          },
          "metadata": {},
          "execution_count": 168
        }
      ]
    },
    {
      "cell_type": "code",
      "source": [
        "plt.figure(figsize=(8,6))\n",
        "#sns.countplot(data=temp_df, x='event',palette='Set2', hue='time')\n",
        "sns.countplot(data=temp_df, x='time',palette='Set2', hue='event')\n",
        "plt.show()"
      ],
      "metadata": {
        "colab": {
          "base_uri": "https://localhost:8080/",
          "height": 388
        },
        "id": "Pn0ZEGEweKk6",
        "outputId": "da5afe2d-650a-4cb1-b076-fa01ee598519"
      },
      "execution_count": 169,
      "outputs": [
        {
          "output_type": "display_data",
          "data": {
            "text/plain": [
              "<Figure size 576x432 with 1 Axes>"
            ],
            "image/png": "[encoded data removed]"
          },
          "metadata": {
            "needs_background": "light"
          }
        }
      ]
    },
    {
      "cell_type": "markdown",
      "metadata": {
        "id": "OGQA6YkJqZr2"
      },
      "source": [
        "#### (Advanced, optional) value에 대한 분석 "
      ]
    },
    {
      "cell_type": "code",
      "source": [
        "# str로 되어있는 데이터를 dictionary로 변환\n",
        "transcript.value = transcript.value.apply(lambda x:eval(x))\n",
        "transcript.value"
      ],
      "metadata": {
        "colab": {
          "base_uri": "https://localhost:8080/"
        },
        "id": "O7dnjGuuh4Rt",
        "outputId": "70343a04-7d67-4d4f-9ba4-6bcf7844caf0"
      },
      "execution_count": 177,
      "outputs": [
        {
          "output_type": "execute_result",
          "data": {
            "text/plain": [
              "0         {'offer id': '9b98b8c7a33c4b65b9aebfe6a799e6d9'}\n",
              "1         {'offer id': '0b1e1539f2cc45b7b9fa7c272da2e1d7'}\n",
              "2         {'offer id': '2906b810c7d4411798c6938adc9daaa5'}\n",
              "3         {'offer id': 'fafdcd668e3743c1bb461111dcafc2a4'}\n",
              "4         {'offer id': '4d5c57ea9a6940dd891ad53e9dbe8da0'}\n",
              "                                ...                       \n",
              "306529                      {'amount': 1.5899999999999999}\n",
              "306530                                    {'amount': 9.53}\n",
              "306531                                    {'amount': 3.61}\n",
              "306532                      {'amount': 3.5300000000000002}\n",
              "306533                                    {'amount': 4.05}\n",
              "Name: value, Length: 306534, dtype: object"
            ]
          },
          "metadata": {},
          "execution_count": 177
        }
      ]
    },
    {
      "cell_type": "code",
      "execution_count": 191,
      "metadata": {
        "id": "wdmq2wWXqZr2",
        "colab": {
          "base_uri": "https://localhost:8080/",
          "height": 36
        },
        "outputId": "1b652a34-ae66-4cf9-f37b-62ad6bd7b77e"
      },
      "outputs": [
        {
          "output_type": "execute_result",
          "data": {
            "text/plain": [
              "'offer id'"
            ],
            "application/vnd.google.colaboratory.intrinsic+json": {
              "type": "string"
            }
          },
          "metadata": {},
          "execution_count": 191
        }
      ],
      "source": [
        "list(transcript.value[0].keys())[0]"
      ]
    },
    {
      "cell_type": "code",
      "execution_count": 196,
      "metadata": {
        "id": "YTSH0GM4qZr2",
        "colab": {
          "base_uri": "https://localhost:8080/"
        },
        "outputId": "a57078e9-8371-497b-a0d0-bbf41cc617ad"
      },
      "outputs": [
        {
          "output_type": "execute_result",
          "data": {
            "text/plain": [
              "0         9b98b8c7a33c4b65b9aebfe6a799e6d9\n",
              "1         0b1e1539f2cc45b7b9fa7c272da2e1d7\n",
              "2         2906b810c7d4411798c6938adc9daaa5\n",
              "3         fafdcd668e3743c1bb461111dcafc2a4\n",
              "4         4d5c57ea9a6940dd891ad53e9dbe8da0\n",
              "                        ...               \n",
              "306529                                1.59\n",
              "306530                                9.53\n",
              "306531                                3.61\n",
              "306532                                3.53\n",
              "306533                                4.05\n",
              "Name: value_value, Length: 306534, dtype: object"
            ]
          },
          "metadata": {},
          "execution_count": 196
        }
      ],
      "source": [
        "# event에 따른 value의 차이 확인\n",
        "transcript[\"value_key\"] = transcript.value.apply(lambda x:list(x.keys())[0])\n",
        "transcript[\"value_value\"] = transcript.value.apply(lambda x:list(x.values())[0])\n",
        "transcript.value_value"
      ]
    },
    {
      "cell_type": "code",
      "source": [
        "transcript.value_value.head(30)"
      ],
      "metadata": {
        "colab": {
          "base_uri": "https://localhost:8080/"
        },
        "id": "aQFhjO2MoOjU",
        "outputId": "b795d149-95a6-4d84-d578-77f75f3d31c8"
      },
      "execution_count": 201,
      "outputs": [
        {
          "output_type": "execute_result",
          "data": {
            "text/plain": [
              "0     9b98b8c7a33c4b65b9aebfe6a799e6d9\n",
              "1     0b1e1539f2cc45b7b9fa7c272da2e1d7\n",
              "2     2906b810c7d4411798c6938adc9daaa5\n",
              "3     fafdcd668e3743c1bb461111dcafc2a4\n",
              "4     4d5c57ea9a6940dd891ad53e9dbe8da0\n",
              "5     f19421c1d4aa40978ebb69ca19b0e20d\n",
              "6     2298d6c36e964ae4a3e7e9706d1fb8c2\n",
              "7     3f207df678b143eea3cee63160fa8bed\n",
              "8     0b1e1539f2cc45b7b9fa7c272da2e1d7\n",
              "9     0b1e1539f2cc45b7b9fa7c272da2e1d7\n",
              "10    0b1e1539f2cc45b7b9fa7c272da2e1d7\n",
              "11    0b1e1539f2cc45b7b9fa7c272da2e1d7\n",
              "12    ae264e3637204a6fb9bb56bc8210ddfd\n",
              "13    3f207df678b143eea3cee63160fa8bed\n",
              "14    0b1e1539f2cc45b7b9fa7c272da2e1d7\n",
              "15    fafdcd668e3743c1bb461111dcafc2a4\n",
              "16    0b1e1539f2cc45b7b9fa7c272da2e1d7\n",
              "17    2906b810c7d4411798c6938adc9daaa5\n",
              "18    9b98b8c7a33c4b65b9aebfe6a799e6d9\n",
              "19    ae264e3637204a6fb9bb56bc8210ddfd\n",
              "20    2906b810c7d4411798c6938adc9daaa5\n",
              "21    9b98b8c7a33c4b65b9aebfe6a799e6d9\n",
              "22    4d5c57ea9a6940dd891ad53e9dbe8da0\n",
              "23    2906b810c7d4411798c6938adc9daaa5\n",
              "24    2298d6c36e964ae4a3e7e9706d1fb8c2\n",
              "25    2906b810c7d4411798c6938adc9daaa5\n",
              "26    f19421c1d4aa40978ebb69ca19b0e20d\n",
              "27    ae264e3637204a6fb9bb56bc8210ddfd\n",
              "28    9b98b8c7a33c4b65b9aebfe6a799e6d9\n",
              "29    fafdcd668e3743c1bb461111dcafc2a4\n",
              "Name: value_value, dtype: object"
            ]
          },
          "metadata": {},
          "execution_count": 201
        }
      ]
    },
    {
      "cell_type": "code",
      "source": [
        "plt.figure(figsize=(8, 6))\n",
        "sns.countplot(data=transcript, x=\"value_key\", palette='Set2')\n",
        "plt.show()\n",
        "#amount는 transaction 단계까지 마친 사람들"
      ],
      "metadata": {
        "colab": {
          "base_uri": "https://localhost:8080/",
          "height": 390
        },
        "id": "Xk9ptLNZtT6N",
        "outputId": "de3f4318-27a7-48c3-820a-34f6459971dd"
      },
      "execution_count": 241,
      "outputs": [
        {
          "output_type": "display_data",
          "data": {
            "text/plain": [
              "<Figure size 576x432 with 1 Axes>"
            ],
            "image/png": "[encoded data removed]"
          },
          "metadata": {
            "needs_background": "light"
          }
        }
      ]
    },
    {
      "cell_type": "code",
      "source": [
        "print(len(transcript.loc[transcript.value_key == 'amount']))\n",
        "print(len(transcript.loc[transcript.event == 'transaction']))\n",
        "# 둘의 숫자가 같은 것을 통해 위의 사실을 확인할 수 있음"
      ],
      "metadata": {
        "colab": {
          "base_uri": "https://localhost:8080/"
        },
        "id": "_2ntkm81tca5",
        "outputId": "a29e8ce2-d0ea-41c9-9db8-db6090129b78"
      },
      "execution_count": 240,
      "outputs": [
        {
          "output_type": "stream",
          "name": "stdout",
          "text": [
            "138953\n",
            "138953\n"
          ]
        }
      ]
    },
    {
      "cell_type": "code",
      "source": [
        "transcript.value_key.value_counts()"
      ],
      "metadata": {
        "colab": {
          "base_uri": "https://localhost:8080/"
        },
        "id": "PUPcXnZPoGNu",
        "outputId": "603a1ef3-3ba8-48f7-f347-48bd1a5d8585"
      },
      "execution_count": 197,
      "outputs": [
        {
          "output_type": "execute_result",
          "data": {
            "text/plain": [
              "amount      138953\n",
              "offer id    134002\n",
              "offer_id     33579\n",
              "Name: value_key, dtype: int64"
            ]
          },
          "metadata": {},
          "execution_count": 197
        }
      ]
    },
    {
      "cell_type": "code",
      "execution_count": 108,
      "metadata": {
        "id": "B0gP_tYWqZr3",
        "colab": {
          "base_uri": "https://localhost:8080/"
        },
        "outputId": "f3d7c7e5-fae7-43f9-ae90-dbfa9e07d327"
      },
      "outputs": [
        {
          "output_type": "execute_result",
          "data": {
            "text/plain": [
              "fafdcd668e3743c1bb461111dcafc2a4    20241\n",
              "2298d6c36e964ae4a3e7e9706d1fb8c2    20139\n",
              "f19421c1d4aa40978ebb69ca19b0e20d    19131\n",
              "4d5c57ea9a6940dd891ad53e9dbe8da0    18222\n",
              "ae264e3637204a6fb9bb56bc8210ddfd    18062\n",
              "                                    ...  \n",
              "635.06                                  1\n",
              "42.51                                   1\n",
              "124.03                                  1\n",
              "40.49                                   1\n",
              "476.33                                  1\n",
              "Name: value_value, Length: 5113, dtype: int64"
            ]
          },
          "metadata": {},
          "execution_count": 108
        }
      ],
      "source": [
        "transcript.value_value.value_counts()"
      ]
    },
    {
      "cell_type": "code",
      "source": [
        "portfolio.info()"
      ],
      "metadata": {
        "colab": {
          "base_uri": "https://localhost:8080/"
        },
        "id": "qAPwU2RNp-ed",
        "outputId": "b3825de3-3df6-4485-a031-642c74cecad2"
      },
      "execution_count": 221,
      "outputs": [
        {
          "output_type": "stream",
          "name": "stdout",
          "text": [
            "<class 'pandas.core.frame.DataFrame'>\n",
            "RangeIndex: 10 entries, 0 to 9\n",
            "Data columns (total 6 columns):\n",
            " #   Column      Non-Null Count  Dtype \n",
            "---  ------      --------------  ----- \n",
            " 0   reward      10 non-null     int64 \n",
            " 1   channels    10 non-null     object\n",
            " 2   difficulty  10 non-null     int64 \n",
            " 3   duration    10 non-null     int64 \n",
            " 4   offer_type  10 non-null     object\n",
            " 5   id          10 non-null     object\n",
            "dtypes: int64(3), object(3)\n",
            "memory usage: 608.0+ bytes\n"
          ]
        }
      ]
    },
    {
      "cell_type": "code",
      "source": [
        "portfolio[['id', 'offer_type']]\n",
        "#각 이벤트에 따른 보상"
      ],
      "metadata": {
        "colab": {
          "base_uri": "https://localhost:8080/",
          "height": 363
        },
        "id": "UmG6OLzIqPh1",
        "outputId": "e5144c3a-ee89-4198-c8ea-eddca5a35328"
      },
      "execution_count": 226,
      "outputs": [
        {
          "output_type": "execute_result",
          "data": {
            "text/plain": [
              "                                 id     offer_type\n",
              "0  ae264e3637204a6fb9bb56bc8210ddfd           bogo\n",
              "1  4d5c57ea9a6940dd891ad53e9dbe8da0           bogo\n",
              "2  3f207df678b143eea3cee63160fa8bed  informational\n",
              "3  9b98b8c7a33c4b65b9aebfe6a799e6d9           bogo\n",
              "4  0b1e1539f2cc45b7b9fa7c272da2e1d7       discount\n",
              "5  2298d6c36e964ae4a3e7e9706d1fb8c2       discount\n",
              "6  fafdcd668e3743c1bb461111dcafc2a4       discount\n",
              "7  5a8bc65990b245e5a138643cd4eb9837  informational\n",
              "8  f19421c1d4aa40978ebb69ca19b0e20d           bogo\n",
              "9  2906b810c7d4411798c6938adc9daaa5       discount"
            ],
            "text/html": [
              "\n",
              "  <div id=\"df-0a389dbe-9192-4e99-873d-a6c414d59265\">\n",
              "    <div class=\"colab-df-container\">\n",
              "      <div>\n",
              "<style scoped>\n",
              "    .dataframe tbody tr th:only-of-type {\n",
              "        vertical-align: middle;\n",
              "    }\n",
              "\n",
              "    .dataframe tbody tr th {\n",
              "        vertical-align: top;\n",
              "    }\n",
              "\n",
              "    .dataframe thead th {\n",
              "        text-align: right;\n",
              "    }\n",
              "</style>\n",
              "<table border=\"1\" class=\"dataframe\">\n",
              "  <thead>\n",
              "    <tr style=\"text-align: right;\">\n",
              "      <th></th>\n",
              "      <th>id</th>\n",
              "      <th>offer_type</th>\n",
              "    </tr>\n",
              "  </thead>\n",
              "  <tbody>\n",
              "    <tr>\n",
              "      <th>0</th>\n",
              "      <td>ae264e3637204a6fb9bb56bc8210ddfd</td>\n",
              "      <td>bogo</td>\n",
              "    </tr>\n",
              "    <tr>\n",
              "      <th>1</th>\n",
              "      <td>4d5c57ea9a6940dd891ad53e9dbe8da0</td>\n",
              "      <td>bogo</td>\n",
              "    </tr>\n",
              "    <tr>\n",
              "      <th>2</th>\n",
              "      <td>3f207df678b143eea3cee63160fa8bed</td>\n",
              "      <td>informational</td>\n",
              "    </tr>\n",
              "    <tr>\n",
              "      <th>3</th>\n",
              "      <td>9b98b8c7a33c4b65b9aebfe6a799e6d9</td>\n",
              "      <td>bogo</td>\n",
              "    </tr>\n",
              "    <tr>\n",
              "      <th>4</th>\n",
              "      <td>0b1e1539f2cc45b7b9fa7c272da2e1d7</td>\n",
              "      <td>discount</td>\n",
              "    </tr>\n",
              "    <tr>\n",
              "      <th>5</th>\n",
              "      <td>2298d6c36e964ae4a3e7e9706d1fb8c2</td>\n",
              "      <td>discount</td>\n",
              "    </tr>\n",
              "    <tr>\n",
              "      <th>6</th>\n",
              "      <td>fafdcd668e3743c1bb461111dcafc2a4</td>\n",
              "      <td>discount</td>\n",
              "    </tr>\n",
              "    <tr>\n",
              "      <th>7</th>\n",
              "      <td>5a8bc65990b245e5a138643cd4eb9837</td>\n",
              "      <td>informational</td>\n",
              "    </tr>\n",
              "    <tr>\n",
              "      <th>8</th>\n",
              "      <td>f19421c1d4aa40978ebb69ca19b0e20d</td>\n",
              "      <td>bogo</td>\n",
              "    </tr>\n",
              "    <tr>\n",
              "      <th>9</th>\n",
              "      <td>2906b810c7d4411798c6938adc9daaa5</td>\n",
              "      <td>discount</td>\n",
              "    </tr>\n",
              "  </tbody>\n",
              "</table>\n",
              "</div>\n",
              "      <button class=\"colab-df-convert\" onclick=\"convertToInteractive('df-0a389dbe-9192-4e99-873d-a6c414d59265')\"\n",
              "              title=\"Convert this dataframe to an interactive table.\"\n",
              "              style=\"display:none;\">\n",
              "        \n",
              "  <svg xmlns=\"http://www.w3.org/2000/svg\" height=\"24px\"viewBox=\"0 0 24 24\"\n",
              "       width=\"24px\">\n",
              "    <path d=\"M0 0h24v24H0V0z\" fill=\"none\"/>\n",
              "    <path d=\"M18.56 5.44l.94 2.06.94-2.06 2.06-.94-2.06-.94-.94-2.06-.94 2.06-2.06.94zm-11 1L8.5 8.5l.94-2.06 2.06-.94-2.06-.94L8.5 2.5l-.94 2.06-2.06.94zm10 10l.94 2.06.94-2.06 2.06-.94-2.06-.94-.94-2.06-.94 2.06-2.06.94z\"/><path d=\"M17.41 7.96l-1.37-1.37c-.4-.4-.92-.59-1.43-.59-.52 0-1.04.2-1.43.59L10.3 9.45l-7.72 7.72c-.78.78-.78 2.05 0 2.83L4 21.41c.39.39.9.59 1.41.59.51 0 1.02-.2 1.41-.59l7.78-7.78 2.81-2.81c.8-.78.8-2.07 0-2.86zM5.41 20L4 18.59l7.72-7.72 1.47 1.35L5.41 20z\"/>\n",
              "  </svg>\n",
              "      </button>\n",
              "      \n",
              "  <style>\n",
              "    .colab-df-container {\n",
              "      display:flex;\n",
              "      flex-wrap:wrap;\n",
              "      gap: 12px;\n",
              "    }\n",
              "\n",
              "    .colab-df-convert {\n",
              "      background-color: #E8F0FE;\n",
              "      border: none;\n",
              "      border-radius: 50%;\n",
              "      cursor: pointer;\n",
              "      display: none;\n",
              "      fill: #1967D2;\n",
              "      height: 32px;\n",
              "      padding: 0 0 0 0;\n",
              "      width: 32px;\n",
              "    }\n",
              "\n",
              "    .colab-df-convert:hover {\n",
              "      background-color: #E2EBFA;\n",
              "      box-shadow: 0px 1px 2px rgba(60, 64, 67, 0.3), 0px 1px 3px 1px rgba(60, 64, 67, 0.15);\n",
              "      fill: #174EA6;\n",
              "    }\n",
              "\n",
              "    [theme=dark] .colab-df-convert {\n",
              "      background-color: #3B4455;\n",
              "      fill: #D2E3FC;\n",
              "    }\n",
              "\n",
              "    [theme=dark] .colab-df-convert:hover {\n",
              "      background-color: #434B5C;\n",
              "      box-shadow: 0px 1px 3px 1px rgba(0, 0, 0, 0.15);\n",
              "      filter: drop-shadow(0px 1px 2px rgba(0, 0, 0, 0.3));\n",
              "      fill: #FFFFFF;\n",
              "    }\n",
              "  </style>\n",
              "\n",
              "      <script>\n",
              "        const buttonEl =\n",
              "          document.querySelector('#df-0a389dbe-9192-4e99-873d-a6c414d59265 button.colab-df-convert');\n",
              "        buttonEl.style.display =\n",
              "          google.colab.kernel.accessAllowed ? 'block' : 'none';\n",
              "\n",
              "        async function convertToInteractive(key) {\n",
              "          const element = document.querySelector('#df-0a389dbe-9192-4e99-873d-a6c414d59265');\n",
              "          const dataTable =\n",
              "            await google.colab.kernel.invokeFunction('convertToInteractive',\n",
              "                                                     [key], {});\n",
              "          if (!dataTable) return;\n",
              "\n",
              "          const docLinkHtml = 'Like what you see? Visit the ' +\n",
              "            '<a target=\"_blank\" href=https://colab.research.google.com/notebooks/data_table.ipynb>data table notebook</a>'\n",
              "            + ' to learn more about interactive tables.';\n",
              "          element.innerHTML = '';\n",
              "          dataTable['output_type'] = 'display_data';\n",
              "          await google.colab.output.renderOutput(dataTable, element);\n",
              "          const docLink = document.createElement('div');\n",
              "          docLink.innerHTML = docLinkHtml;\n",
              "          element.appendChild(docLink);\n",
              "        }\n",
              "      </script>\n",
              "    </div>\n",
              "  </div>\n",
              "  "
            ]
          },
          "metadata": {},
          "execution_count": 226
        }
      ]
    },
    {
      "cell_type": "code",
      "execution_count": 242,
      "metadata": {
        "id": "CMJgHSAZqZr3",
        "colab": {
          "base_uri": "https://localhost:8080/",
          "height": 606
        },
        "outputId": "11828c58-81e3-43eb-c561-6aa676ba31e9"
      },
      "outputs": [
        {
          "output_type": "display_data",
          "data": {
            "text/plain": [
              "<Figure size 432x720 with 1 Axes>"
            ],
            "image/png": "[encoded data removed]"
          },
          "metadata": {
            "needs_background": "light"
          }
        }
      ],
      "source": [
        "temp = transcript.loc[transcript.value_key != \"amount\"]\n",
        "plt.figure(figsize=(6,10))\n",
        "sns.countplot(data=temp, y='value_value',hue='event', palette='Set2')\n",
        "plt.show()\n",
        "#transaction을 제외한 나머지 event들을 대상으로 한 그래프\n",
        "#전반적으로 할인 이벤트를 확인한 사람들이 많다.\n",
        "#이벤트를 완료한 인원도 할인 이벤트들이 제일 많다. "
      ]
    },
    {
      "cell_type": "markdown",
      "source": [
        "# 분석 결과"
      ],
      "metadata": {
        "id": "M6YVynfZwqFx"
      }
    },
    {
      "cell_type": "markdown",
      "source": [
        "데이터들을 전반적으로 분석한 결과,\n",
        "60대 남성의 참여율이 \n",
        "가장 높은 것으로 나타났다.\n",
        "\n",
        "가입 인원은 8-12월, 그리고 1월에 가장 많았으며\n",
        "이는 해당 월들에 연휴가 많기 때문으로 추정된다.\n",
        "\n",
        "고객들이 가장 많이 참여하는 이벤트는 할인 이벤트이다.\n",
        "\n",
        "이를 통해 연휴 기간에 60대 남성을 대상으로 한 할인 이벤트를 진행하면 높은 참여율을 이끌어 낼 것으로 추정된다. "
      ],
      "metadata": {
        "id": "0GoRhQHtu66E"
      }
    }
  ],
  "metadata": {
    "colab": {
      "provenance": []
    },
    "kernelspec": {
      "display_name": "Python 3 (ipykernel)",
      "language": "python",
      "name": "python3"
    },
    "language_info": {
      "codemirror_mode": {
        "name": "ipython",
        "version": 3
      },
      "file_extension": ".py",
      "mimetype": "text/x-python",
      "name": "python",
      "nbconvert_exporter": "python",
      "pygments_lexer": "ipython3",
      "version": "3.8.2"
    },
    "accelerator": "TPU",
    "gpuClass": "standard"
  },
  "nbformat": 4,
  "nbformat_minor": 0
}